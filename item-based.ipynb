{
 "metadata": {
  "language_info": {
   "codemirror_mode": {
    "name": "ipython",
    "version": 3
   },
   "file_extension": ".py",
   "mimetype": "text/x-python",
   "name": "python",
   "nbconvert_exporter": "python",
   "pygments_lexer": "ipython3",
   "version": "3.8.3"
  },
  "orig_nbformat": 2,
  "kernelspec": {
   "name": "python383jvsc74a57bd07a5569dfa1da5dec20e2743194aafb440d0686bdf8737b4c92ec368b2ffcc48b",
   "display_name": "Python 3.8.3 64-bit ('base': conda)"
  }
 },
 "nbformat": 4,
 "nbformat_minor": 2,
 "cells": [
  {
   "cell_type": "code",
   "execution_count": 1,
   "metadata": {},
   "outputs": [],
   "source": [
    "import numpy as np\n",
    "import pandas as pd\n",
    "from sklearn.feature_extraction import DictVectorizer\n",
    "from sklearn.metrics.pairwise import cosine_similarity"
   ]
  },
  {
   "cell_type": "code",
   "execution_count": 2,
   "metadata": {},
   "outputs": [],
   "source": [
    "df = pd.read_csv('./goodreads_reviews_comics_graphic.csv')[['user_id', 'book_id', 'rating']]\n",
    "map_title = pd.read_csv('./goodreads_books_comics_graphic.csv')[['book_id', 'title', 'url']]"
   ]
  },
  {
   "cell_type": "code",
   "execution_count": 3,
   "metadata": {},
   "outputs": [
    {
     "output_type": "stream",
     "name": "stdout",
     "text": [
      "<class 'pandas.core.frame.DataFrame'>\nRangeIndex: 542338 entries, 0 to 542337\nData columns (total 3 columns):\n #   Column   Non-Null Count   Dtype \n---  ------   --------------   ----- \n 0   user_id  542338 non-null  object\n 1   book_id  542338 non-null  int64 \n 2   rating   542338 non-null  int64 \ndtypes: int64(2), object(1)\nmemory usage: 12.4+ MB\n"
     ]
    }
   ],
   "source": [
    "df.info()"
   ]
  },
  {
   "cell_type": "code",
   "execution_count": 4,
   "metadata": {},
   "outputs": [],
   "source": [
    "ratings = df[0: 200000]"
   ]
  },
  {
   "cell_type": "code",
   "execution_count": 5,
   "metadata": {},
   "outputs": [
    {
     "output_type": "stream",
     "name": "stdout",
     "text": [
      "<class 'pandas.core.frame.DataFrame'>\nRangeIndex: 200000 entries, 0 to 199999\nData columns (total 3 columns):\n #   Column   Non-Null Count   Dtype \n---  ------   --------------   ----- \n 0   user_id  200000 non-null  object\n 1   book_id  200000 non-null  int64 \n 2   rating   200000 non-null  int64 \ndtypes: int64(2), object(1)\nmemory usage: 4.6+ MB\n"
     ]
    }
   ],
   "source": [
    "ratings.info()"
   ]
  },
  {
   "cell_type": "code",
   "execution_count": 6,
   "metadata": {},
   "outputs": [],
   "source": [
    "ratings_rmv_duplicates = ratings.drop_duplicates()"
   ]
  },
  {
   "cell_type": "code",
   "execution_count": 7,
   "metadata": {},
   "outputs": [],
   "source": [
    "unwanted_users = ratings_rmv_duplicates.groupby('user_id')['user_id'].count()"
   ]
  },
  {
   "cell_type": "code",
   "execution_count": 8,
   "metadata": {},
   "outputs": [
    {
     "output_type": "execute_result",
     "data": {
      "text/plain": [
       "(18963,)"
      ]
     },
     "metadata": {},
     "execution_count": 8
    }
   ],
   "source": [
    "unwanted_users.shape"
   ]
  },
  {
   "cell_type": "code",
   "execution_count": 9,
   "metadata": {},
   "outputs": [
    {
     "output_type": "execute_result",
     "data": {
      "text/plain": [
       "(10563,)"
      ]
     },
     "metadata": {},
     "execution_count": 9
    }
   ],
   "source": [
    "unwanted_users = unwanted_users[unwanted_users < 3]\n",
    "unwanted_users.shape"
   ]
  },
  {
   "cell_type": "code",
   "execution_count": 10,
   "metadata": {},
   "outputs": [
    {
     "output_type": "execute_result",
     "data": {
      "text/plain": [
       "(13416, 3)"
      ]
     },
     "metadata": {},
     "execution_count": 10
    }
   ],
   "source": [
    "unwanted_ratings = ratings_rmv_duplicates[ratings_rmv_duplicates.user_id.isin(unwanted_users.index)]\n",
    "unwanted_ratings.shape"
   ]
  },
  {
   "cell_type": "code",
   "execution_count": 11,
   "metadata": {},
   "outputs": [
    {
     "output_type": "execute_result",
     "data": {
      "text/plain": [
       "(186584, 3)"
      ]
     },
     "metadata": {},
     "execution_count": 11
    }
   ],
   "source": [
    "new_ratings = ratings_rmv_duplicates.drop(unwanted_ratings.index)\n",
    "new_ratings.shape"
   ]
  },
  {
   "cell_type": "code",
   "execution_count": 12,
   "metadata": {},
   "outputs": [],
   "source": [
    "new_ratings['title'] = map_title.set_index('book_id').title.loc[new_ratings.book_id].values"
   ]
  },
  {
   "cell_type": "code",
   "execution_count": 13,
   "metadata": {},
   "outputs": [
    {
     "output_type": "execute_result",
     "data": {
      "text/plain": [
       "                            user_id   book_id  rating  \\\n",
       "1  bafc2d50014200cda7cb2b6acd60cd73   6315584       4   \n",
       "2  bafc2d50014200cda7cb2b6acd60cd73  29847729       4   \n",
       "3  bafc2d50014200cda7cb2b6acd60cd73  18454118       5   \n",
       "4  bafc2d50014200cda7cb2b6acd60cd73   2239435       4   \n",
       "5  bafc2d50014200cda7cb2b6acd60cd73  13094398       3   \n",
       "\n",
       "                                               title  \n",
       "1                      Spider-Man: The Darkest Hours  \n",
       "2          Jim Butcher's Dresden Files: Wild Card #1  \n",
       "3                                   Deadlock, Vol. 1  \n",
       "4  All-Star Batman and Robin, the Boy Wonder, Vol. 1  \n",
       "5          Black Butler, Vol. 12 (Black Butler, #12)  "
      ],
      "text/html": "<div>\n<style scoped>\n    .dataframe tbody tr th:only-of-type {\n        vertical-align: middle;\n    }\n\n    .dataframe tbody tr th {\n        vertical-align: top;\n    }\n\n    .dataframe thead th {\n        text-align: right;\n    }\n</style>\n<table border=\"1\" class=\"dataframe\">\n  <thead>\n    <tr style=\"text-align: right;\">\n      <th></th>\n      <th>user_id</th>\n      <th>book_id</th>\n      <th>rating</th>\n      <th>title</th>\n    </tr>\n  </thead>\n  <tbody>\n    <tr>\n      <th>1</th>\n      <td>bafc2d50014200cda7cb2b6acd60cd73</td>\n      <td>6315584</td>\n      <td>4</td>\n      <td>Spider-Man: The Darkest Hours</td>\n    </tr>\n    <tr>\n      <th>2</th>\n      <td>bafc2d50014200cda7cb2b6acd60cd73</td>\n      <td>29847729</td>\n      <td>4</td>\n      <td>Jim Butcher's Dresden Files: Wild Card #1</td>\n    </tr>\n    <tr>\n      <th>3</th>\n      <td>bafc2d50014200cda7cb2b6acd60cd73</td>\n      <td>18454118</td>\n      <td>5</td>\n      <td>Deadlock, Vol. 1</td>\n    </tr>\n    <tr>\n      <th>4</th>\n      <td>bafc2d50014200cda7cb2b6acd60cd73</td>\n      <td>2239435</td>\n      <td>4</td>\n      <td>All-Star Batman and Robin, the Boy Wonder, Vol. 1</td>\n    </tr>\n    <tr>\n      <th>5</th>\n      <td>bafc2d50014200cda7cb2b6acd60cd73</td>\n      <td>13094398</td>\n      <td>3</td>\n      <td>Black Butler, Vol. 12 (Black Butler, #12)</td>\n    </tr>\n  </tbody>\n</table>\n</div>"
     },
     "metadata": {},
     "execution_count": 13
    }
   ],
   "source": [
    "new_ratings.head()"
   ]
  },
  {
   "cell_type": "code",
   "execution_count": 14,
   "metadata": {},
   "outputs": [
    {
     "output_type": "execute_result",
     "data": {
      "text/plain": [
       "                                                    rating\n",
       "title                                                     \n",
       "\"Any Grooming Hints for Your Fans, Rollie?\"              1\n",
       "\"Bob's\" Favorite Comics                                  1\n",
       "\"Fringe\"                                                 1\n",
       "\"How Come Boys Get to Keep Their Noses?\": Women...       1\n",
       "\"Suki\" to Ienai                                          1"
      ],
      "text/html": "<div>\n<style scoped>\n    .dataframe tbody tr th:only-of-type {\n        vertical-align: middle;\n    }\n\n    .dataframe tbody tr th {\n        vertical-align: top;\n    }\n\n    .dataframe thead th {\n        text-align: right;\n    }\n</style>\n<table border=\"1\" class=\"dataframe\">\n  <thead>\n    <tr style=\"text-align: right;\">\n      <th></th>\n      <th>rating</th>\n    </tr>\n    <tr>\n      <th>title</th>\n      <th></th>\n    </tr>\n  </thead>\n  <tbody>\n    <tr>\n      <th>\"Any Grooming Hints for Your Fans, Rollie?\"</th>\n      <td>1</td>\n    </tr>\n    <tr>\n      <th>\"Bob's\" Favorite Comics</th>\n      <td>1</td>\n    </tr>\n    <tr>\n      <th>\"Fringe\"</th>\n      <td>1</td>\n    </tr>\n    <tr>\n      <th>\"How Come Boys Get to Keep Their Noses?\": Women and Jewish American Identity in Contemporary Graphic Memoirs</th>\n      <td>1</td>\n    </tr>\n    <tr>\n      <th>\"Suki\" to Ienai</th>\n      <td>1</td>\n    </tr>\n  </tbody>\n</table>\n</div>"
     },
     "metadata": {},
     "execution_count": 14
    }
   ],
   "source": [
    "rating_book_count = pd.DataFrame(new_ratings.groupby('title')['rating'].count())\n",
    "rating_book_count.head()"
   ]
  },
  {
   "cell_type": "code",
   "execution_count": 15,
   "metadata": {},
   "outputs": [],
   "source": [
    "bookmat = new_ratings.pivot_table(index='user_id', columns='title', values='rating')"
   ]
  },
  {
   "cell_type": "code",
   "execution_count": 16,
   "metadata": {},
   "outputs": [
    {
     "output_type": "execute_result",
     "data": {
      "text/plain": [
       "title                             \"Any Grooming Hints for Your Fans, Rollie?\"  \\\n",
       "user_id                                                                         \n",
       "0006260f85929db85eddee3a0bd0e504                                          NaN   \n",
       "0008931c0cde961e9c802c5a58196d23                                          NaN   \n",
       "000b9da55af4420915d408f205919d29                                          NaN   \n",
       "001010815d3b2692435dfc70285d06e4                                          NaN   \n",
       "002a023d3de233b4bd3ec4fc3e9c581a                                          NaN   \n",
       "\n",
       "title                             \"Bob's\" Favorite Comics  \"Fringe\"  \\\n",
       "user_id                                                               \n",
       "0006260f85929db85eddee3a0bd0e504                      NaN       NaN   \n",
       "0008931c0cde961e9c802c5a58196d23                      NaN       NaN   \n",
       "000b9da55af4420915d408f205919d29                      NaN       NaN   \n",
       "001010815d3b2692435dfc70285d06e4                      NaN       NaN   \n",
       "002a023d3de233b4bd3ec4fc3e9c581a                      NaN       NaN   \n",
       "\n",
       "title                             \"How Come Boys Get to Keep Their Noses?\": Women and Jewish American Identity in Contemporary Graphic Memoirs  \\\n",
       "user_id                                                                                                                                          \n",
       "0006260f85929db85eddee3a0bd0e504                                                NaN                                                              \n",
       "0008931c0cde961e9c802c5a58196d23                                                NaN                                                              \n",
       "000b9da55af4420915d408f205919d29                                                NaN                                                              \n",
       "001010815d3b2692435dfc70285d06e4                                                NaN                                                              \n",
       "002a023d3de233b4bd3ec4fc3e9c581a                                                NaN                                                              \n",
       "\n",
       "title                             \"Suki\" to Ienai  \\\n",
       "user_id                                             \n",
       "0006260f85929db85eddee3a0bd0e504              NaN   \n",
       "0008931c0cde961e9c802c5a58196d23              NaN   \n",
       "000b9da55af4420915d408f205919d29              NaN   \n",
       "001010815d3b2692435dfc70285d06e4              NaN   \n",
       "002a023d3de233b4bd3ec4fc3e9c581a              NaN   \n",
       "\n",
       "title                             #01 Sherlock Holmes and a Scandal in Bohemia  \\\n",
       "user_id                                                                          \n",
       "0006260f85929db85eddee3a0bd0e504                                           NaN   \n",
       "0008931c0cde961e9c802c5a58196d23                                           NaN   \n",
       "000b9da55af4420915d408f205919d29                                           NaN   \n",
       "001010815d3b2692435dfc70285d06e4                                           NaN   \n",
       "002a023d3de233b4bd3ec4fc3e9c581a                                           NaN   \n",
       "\n",
       "title                             #01 The Drained Brains Caper  \\\n",
       "user_id                                                          \n",
       "0006260f85929db85eddee3a0bd0e504                           NaN   \n",
       "0008931c0cde961e9c802c5a58196d23                           NaN   \n",
       "000b9da55af4420915d408f205919d29                           NaN   \n",
       "001010815d3b2692435dfc70285d06e4                           NaN   \n",
       "002a023d3de233b4bd3ec4fc3e9c581a                           NaN   \n",
       "\n",
       "title                             #02 The Planet of the Firebird  \\\n",
       "user_id                                                            \n",
       "0006260f85929db85eddee3a0bd0e504                             NaN   \n",
       "0008931c0cde961e9c802c5a58196d23                             NaN   \n",
       "000b9da55af4420915d408f205919d29                             NaN   \n",
       "001010815d3b2692435dfc70285d06e4                             NaN   \n",
       "002a023d3de233b4bd3ec4fc3e9c581a                             NaN   \n",
       "\n",
       "title                             #1 Believe Your Eyes  #1 Freedom!  ...  \\\n",
       "user_id                                                              ...   \n",
       "0006260f85929db85eddee3a0bd0e504                   NaN          NaN  ...   \n",
       "0008931c0cde961e9c802c5a58196d23                   NaN          NaN  ...   \n",
       "000b9da55af4420915d408f205919d29                   NaN          NaN  ...   \n",
       "001010815d3b2692435dfc70285d06e4                   NaN          NaN  ...   \n",
       "002a023d3de233b4bd3ec4fc3e9c581a                   NaN          NaN  ...   \n",
       "\n",
       "title                             피노키오 1 (Pinocchio, #1)  \\\n",
       "user_id                                                    \n",
       "0006260f85929db85eddee3a0bd0e504                     NaN   \n",
       "0008931c0cde961e9c802c5a58196d23                     NaN   \n",
       "000b9da55af4420915d408f205919d29                     NaN   \n",
       "001010815d3b2692435dfc70285d06e4                     NaN   \n",
       "002a023d3de233b4bd3ec4fc3e9c581a                     NaN   \n",
       "\n",
       "title                             하백의 신부 [Bride of the Water God], Volume 10  \\\n",
       "user_id                                                                        \n",
       "0006260f85929db85eddee3a0bd0e504                                         NaN   \n",
       "0008931c0cde961e9c802c5a58196d23                                         NaN   \n",
       "000b9da55af4420915d408f205919d29                                         NaN   \n",
       "001010815d3b2692435dfc70285d06e4                                         NaN   \n",
       "002a023d3de233b4bd3ec4fc3e9c581a                                         NaN   \n",
       "\n",
       "title                             하백의 신부 [Bride of the Water God], Volume 11  \\\n",
       "user_id                                                                        \n",
       "0006260f85929db85eddee3a0bd0e504                                         NaN   \n",
       "0008931c0cde961e9c802c5a58196d23                                         NaN   \n",
       "000b9da55af4420915d408f205919d29                                         NaN   \n",
       "001010815d3b2692435dfc70285d06e4                                         NaN   \n",
       "002a023d3de233b4bd3ec4fc3e9c581a                                         NaN   \n",
       "\n",
       "title                             하백의 신부 [Bride of the Water God], Volume 12  \\\n",
       "user_id                                                                        \n",
       "0006260f85929db85eddee3a0bd0e504                                         NaN   \n",
       "0008931c0cde961e9c802c5a58196d23                                         NaN   \n",
       "000b9da55af4420915d408f205919d29                                         NaN   \n",
       "001010815d3b2692435dfc70285d06e4                                         NaN   \n",
       "002a023d3de233b4bd3ec4fc3e9c581a                                         NaN   \n",
       "\n",
       "title                             하백의 신부 [Bride of the Water God], Volume 14  \\\n",
       "user_id                                                                        \n",
       "0006260f85929db85eddee3a0bd0e504                                         NaN   \n",
       "0008931c0cde961e9c802c5a58196d23                                         NaN   \n",
       "000b9da55af4420915d408f205919d29                                         NaN   \n",
       "001010815d3b2692435dfc70285d06e4                                         NaN   \n",
       "002a023d3de233b4bd3ec4fc3e9c581a                                         NaN   \n",
       "\n",
       "title                             하백의 신부 [Bride of the Water God], Volume 8  \\\n",
       "user_id                                                                       \n",
       "0006260f85929db85eddee3a0bd0e504                                        NaN   \n",
       "0008931c0cde961e9c802c5a58196d23                                        NaN   \n",
       "000b9da55af4420915d408f205919d29                                        NaN   \n",
       "001010815d3b2692435dfc70285d06e4                                        NaN   \n",
       "002a023d3de233b4bd3ec4fc3e9c581a                                        NaN   \n",
       "\n",
       "title                             하백의 신부 [Bride of the Water God], Volume 9  \\\n",
       "user_id                                                                       \n",
       "0006260f85929db85eddee3a0bd0e504                                        NaN   \n",
       "0008931c0cde961e9c802c5a58196d23                                        NaN   \n",
       "000b9da55af4420915d408f205919d29                                        NaN   \n",
       "001010815d3b2692435dfc70285d06e4                                        NaN   \n",
       "002a023d3de233b4bd3ec4fc3e9c581a                                        NaN   \n",
       "\n",
       "title                             Ｌ・ＤＫ（１０） (講談社コミックス別冊フレンド)  Ｌ・ＤＫ（１２）  \\\n",
       "user_id                                                                 \n",
       "0006260f85929db85eddee3a0bd0e504                        NaN       NaN   \n",
       "0008931c0cde961e9c802c5a58196d23                        NaN       NaN   \n",
       "000b9da55af4420915d408f205919d29                        NaN       NaN   \n",
       "001010815d3b2692435dfc70285d06e4                        NaN       NaN   \n",
       "002a023d3de233b4bd3ec4fc3e9c581a                        NaN       NaN   \n",
       "\n",
       "title                             ＳＡＭＵＲＡＩ　ＤＥＥＰＥＲ　ＫＹＯ（１）  \n",
       "user_id                                                  \n",
       "0006260f85929db85eddee3a0bd0e504                    NaN  \n",
       "0008931c0cde961e9c802c5a58196d23                    NaN  \n",
       "000b9da55af4420915d408f205919d29                    NaN  \n",
       "001010815d3b2692435dfc70285d06e4                    NaN  \n",
       "002a023d3de233b4bd3ec4fc3e9c581a                    NaN  \n",
       "\n",
       "[5 rows x 48711 columns]"
      ],
      "text/html": "<div>\n<style scoped>\n    .dataframe tbody tr th:only-of-type {\n        vertical-align: middle;\n    }\n\n    .dataframe tbody tr th {\n        vertical-align: top;\n    }\n\n    .dataframe thead th {\n        text-align: right;\n    }\n</style>\n<table border=\"1\" class=\"dataframe\">\n  <thead>\n    <tr style=\"text-align: right;\">\n      <th>title</th>\n      <th>\"Any Grooming Hints for Your Fans, Rollie?\"</th>\n      <th>\"Bob's\" Favorite Comics</th>\n      <th>\"Fringe\"</th>\n      <th>\"How Come Boys Get to Keep Their Noses?\": Women and Jewish American Identity in Contemporary Graphic Memoirs</th>\n      <th>\"Suki\" to Ienai</th>\n      <th>#01 Sherlock Holmes and a Scandal in Bohemia</th>\n      <th>#01 The Drained Brains Caper</th>\n      <th>#02 The Planet of the Firebird</th>\n      <th>#1 Believe Your Eyes</th>\n      <th>#1 Freedom!</th>\n      <th>...</th>\n      <th>피노키오 1 (Pinocchio, #1)</th>\n      <th>하백의 신부 [Bride of the Water God], Volume 10</th>\n      <th>하백의 신부 [Bride of the Water God], Volume 11</th>\n      <th>하백의 신부 [Bride of the Water God], Volume 12</th>\n      <th>하백의 신부 [Bride of the Water God], Volume 14</th>\n      <th>하백의 신부 [Bride of the Water God], Volume 8</th>\n      <th>하백의 신부 [Bride of the Water God], Volume 9</th>\n      <th>Ｌ・ＤＫ（１０） (講談社コミックス別冊フレンド)</th>\n      <th>Ｌ・ＤＫ（１２）</th>\n      <th>ＳＡＭＵＲＡＩ　ＤＥＥＰＥＲ　ＫＹＯ（１）</th>\n    </tr>\n    <tr>\n      <th>user_id</th>\n      <th></th>\n      <th></th>\n      <th></th>\n      <th></th>\n      <th></th>\n      <th></th>\n      <th></th>\n      <th></th>\n      <th></th>\n      <th></th>\n      <th></th>\n      <th></th>\n      <th></th>\n      <th></th>\n      <th></th>\n      <th></th>\n      <th></th>\n      <th></th>\n      <th></th>\n      <th></th>\n      <th></th>\n    </tr>\n  </thead>\n  <tbody>\n    <tr>\n      <th>0006260f85929db85eddee3a0bd0e504</th>\n      <td>NaN</td>\n      <td>NaN</td>\n      <td>NaN</td>\n      <td>NaN</td>\n      <td>NaN</td>\n      <td>NaN</td>\n      <td>NaN</td>\n      <td>NaN</td>\n      <td>NaN</td>\n      <td>NaN</td>\n      <td>...</td>\n      <td>NaN</td>\n      <td>NaN</td>\n      <td>NaN</td>\n      <td>NaN</td>\n      <td>NaN</td>\n      <td>NaN</td>\n      <td>NaN</td>\n      <td>NaN</td>\n      <td>NaN</td>\n      <td>NaN</td>\n    </tr>\n    <tr>\n      <th>0008931c0cde961e9c802c5a58196d23</th>\n      <td>NaN</td>\n      <td>NaN</td>\n      <td>NaN</td>\n      <td>NaN</td>\n      <td>NaN</td>\n      <td>NaN</td>\n      <td>NaN</td>\n      <td>NaN</td>\n      <td>NaN</td>\n      <td>NaN</td>\n      <td>...</td>\n      <td>NaN</td>\n      <td>NaN</td>\n      <td>NaN</td>\n      <td>NaN</td>\n      <td>NaN</td>\n      <td>NaN</td>\n      <td>NaN</td>\n      <td>NaN</td>\n      <td>NaN</td>\n      <td>NaN</td>\n    </tr>\n    <tr>\n      <th>000b9da55af4420915d408f205919d29</th>\n      <td>NaN</td>\n      <td>NaN</td>\n      <td>NaN</td>\n      <td>NaN</td>\n      <td>NaN</td>\n      <td>NaN</td>\n      <td>NaN</td>\n      <td>NaN</td>\n      <td>NaN</td>\n      <td>NaN</td>\n      <td>...</td>\n      <td>NaN</td>\n      <td>NaN</td>\n      <td>NaN</td>\n      <td>NaN</td>\n      <td>NaN</td>\n      <td>NaN</td>\n      <td>NaN</td>\n      <td>NaN</td>\n      <td>NaN</td>\n      <td>NaN</td>\n    </tr>\n    <tr>\n      <th>001010815d3b2692435dfc70285d06e4</th>\n      <td>NaN</td>\n      <td>NaN</td>\n      <td>NaN</td>\n      <td>NaN</td>\n      <td>NaN</td>\n      <td>NaN</td>\n      <td>NaN</td>\n      <td>NaN</td>\n      <td>NaN</td>\n      <td>NaN</td>\n      <td>...</td>\n      <td>NaN</td>\n      <td>NaN</td>\n      <td>NaN</td>\n      <td>NaN</td>\n      <td>NaN</td>\n      <td>NaN</td>\n      <td>NaN</td>\n      <td>NaN</td>\n      <td>NaN</td>\n      <td>NaN</td>\n    </tr>\n    <tr>\n      <th>002a023d3de233b4bd3ec4fc3e9c581a</th>\n      <td>NaN</td>\n      <td>NaN</td>\n      <td>NaN</td>\n      <td>NaN</td>\n      <td>NaN</td>\n      <td>NaN</td>\n      <td>NaN</td>\n      <td>NaN</td>\n      <td>NaN</td>\n      <td>NaN</td>\n      <td>...</td>\n      <td>NaN</td>\n      <td>NaN</td>\n      <td>NaN</td>\n      <td>NaN</td>\n      <td>NaN</td>\n      <td>NaN</td>\n      <td>NaN</td>\n      <td>NaN</td>\n      <td>NaN</td>\n      <td>NaN</td>\n    </tr>\n  </tbody>\n</table>\n<p>5 rows × 48711 columns</p>\n</div>"
     },
     "metadata": {},
     "execution_count": 16
    }
   ],
   "source": [
    "bookmat.head()"
   ]
  },
  {
   "cell_type": "code",
   "execution_count": 19,
   "metadata": {},
   "outputs": [],
   "source": [
    "def get_similar(title, mat):\n",
    "    title_user_ratings = mat[title]\n",
    "    similar_to_title = mat.corrwith(title_user_ratings, method='pearson')\n",
    "    corr_title = pd.DataFrame(similar_to_title, columns=['correlation'])\n",
    "    corr_title['rating_count'] = rating_book_count['rating']\n",
    "    corr_title.dropna(inplace=True)\n",
    "    corr_title[corr_title['rating_count']>50].sort_values('correlation', ascending=False, inplace=True)\n",
    "    return corr_title"
   ]
  },
  {
   "cell_type": "code",
   "execution_count": 20,
   "metadata": {},
   "outputs": [
    {
     "output_type": "stream",
     "name": "stderr",
     "text": [
      "C:\\Users\\hungn\\anaconda3\\lib\\site-packages\\numpy\\lib\\function_base.py:2526: RuntimeWarning: Degrees of freedom <= 0 for slice\n",
      "  c = cov(x, y, rowvar)\n",
      "C:\\Users\\hungn\\anaconda3\\lib\\site-packages\\numpy\\lib\\function_base.py:2455: RuntimeWarning: divide by zero encountered in true_divide\n",
      "  c *= np.true_divide(1, fact)\n",
      "<ipython-input-19-57bd11757abf>:7: SettingWithCopyWarning: \n",
      "A value is trying to be set on a copy of a slice from a DataFrame\n",
      "\n",
      "See the caveats in the documentation: https://pandas.pydata.org/pandas-docs/stable/user_guide/indexing.html#returning-a-view-versus-a-copy\n",
      "  corr_title[corr_title['rating_count']>50].sort_values('correlation', ascending=False, inplace=True)\n"
     ]
    }
   ],
   "source": [
    "smlr = get_similar('12 Terrors of Christmas', bookmat)"
   ]
  },
  {
   "cell_type": "code",
   "execution_count": 123,
   "metadata": {},
   "outputs": [
    {
     "output_type": "execute_result",
     "data": {
      "text/plain": [
       "                                            correlation\n",
       "title                                                  \n",
       "12 Terrors of Christmas                             1.0\n",
       "Blankets                                            1.0\n",
       "Buddha, Vol. 1: Kapilavastu (Buddha #1)             1.0\n",
       "The Sculptor                                        1.0\n",
       "Blood Work (The Hollows Graphic Novel, #1)          1.0"
      ],
      "text/html": "<div>\n<style scoped>\n    .dataframe tbody tr th:only-of-type {\n        vertical-align: middle;\n    }\n\n    .dataframe tbody tr th {\n        vertical-align: top;\n    }\n\n    .dataframe thead th {\n        text-align: right;\n    }\n</style>\n<table border=\"1\" class=\"dataframe\">\n  <thead>\n    <tr style=\"text-align: right;\">\n      <th></th>\n      <th>correlation</th>\n    </tr>\n    <tr>\n      <th>title</th>\n      <th></th>\n    </tr>\n  </thead>\n  <tbody>\n    <tr>\n      <th>12 Terrors of Christmas</th>\n      <td>1.0</td>\n    </tr>\n    <tr>\n      <th>Blankets</th>\n      <td>1.0</td>\n    </tr>\n    <tr>\n      <th>Buddha, Vol. 1: Kapilavastu (Buddha #1)</th>\n      <td>1.0</td>\n    </tr>\n    <tr>\n      <th>The Sculptor</th>\n      <td>1.0</td>\n    </tr>\n    <tr>\n      <th>Blood Work (The Hollows Graphic Novel, #1)</th>\n      <td>1.0</td>\n    </tr>\n  </tbody>\n</table>\n</div>"
     },
     "metadata": {},
     "execution_count": 123
    }
   ],
   "source": [
    "smlr.head(5)"
   ]
  },
  {
   "cell_type": "code",
   "execution_count": null,
   "metadata": {},
   "outputs": [],
   "source": []
  }
 ]
}